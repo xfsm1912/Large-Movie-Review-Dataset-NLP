{
 "cells": [
  {
   "cell_type": "code",
   "execution_count": 14,
   "metadata": {},
   "outputs": [],
   "source": [
    "import pandas as pd\n",
    "from ml_utils import *\n",
    "import matplotlib.pyplot as plt"
   ]
  },
  {
   "cell_type": "markdown",
   "metadata": {},
   "source": [
    "## Load data"
   ]
  },
  {
   "cell_type": "code",
   "execution_count": 15,
   "metadata": {},
   "outputs": [],
   "source": [
    "def load_data(path):\n",
    "    data = pd.read_csv(path)\n",
    "    x = data['reviewText'].tolist()\n",
    "    y = data['sentiment'].tolist()\n",
    "    return x, y"
   ]
  },
  {
   "cell_type": "code",
   "execution_count": 16,
   "metadata": {},
   "outputs": [],
   "source": [
    "train_x, train_y = load_data('train.csv')\n",
    "test_x, test_y = load_data('test.csv')"
   ]
  },
  {
   "cell_type": "code",
   "execution_count": 17,
   "metadata": {},
   "outputs": [],
   "source": [
    "train_y_label = np.array([1 if y == 'pos' else 0 for y in train_y])\n",
    "test_y_label = np.array([1 if y == 'pos' else 0 for y in test_y])"
   ]
  },
  {
   "cell_type": "code",
   "execution_count": 18,
   "metadata": {},
   "outputs": [
    {
     "name": "stdout",
     "output_type": "stream",
     "text": [
      "training size: 25000\n",
      "test size: 25000\n"
     ]
    }
   ],
   "source": [
    "print('training size:', len(train_x))\n",
    "print('test size:', len(test_x))"
   ]
  },
  {
   "cell_type": "markdown",
   "metadata": {},
   "source": [
    "## Preprocessing"
   ]
  },
  {
   "cell_type": "code",
   "execution_count": 19,
   "metadata": {},
   "outputs": [],
   "source": [
    "import nltk\n",
    "import string"
   ]
  },
  {
   "cell_type": "code",
   "execution_count": 20,
   "metadata": {},
   "outputs": [],
   "source": [
    "word_to_index, word_to_vec_map = read_glove_vecs('data/glove.6B.50d.txt')"
   ]
  },
  {
   "cell_type": "code",
   "execution_count": 21,
   "metadata": {},
   "outputs": [],
   "source": [
    "stopwords = list(pd.read_csv(\"stopwordsmodify.txt\", header=None).values.reshape(-1))"
   ]
  },
  {
   "cell_type": "code",
   "execution_count": 22,
   "metadata": {},
   "outputs": [],
   "source": [
    "lemmatizer = nltk.WordNetLemmatizer()\n",
    "transtbl = str.maketrans(string.punctuation, ' ' * len(string.punctuation))"
   ]
  },
  {
   "cell_type": "code",
   "execution_count": 23,
   "metadata": {},
   "outputs": [],
   "source": [
    "contractions = np.load(\"contractions.npy\").item()"
   ]
  },
  {
   "cell_type": "code",
   "execution_count": 24,
   "metadata": {},
   "outputs": [],
   "source": [
    "def preprocessing(line):\n",
    "    line = line.replace('<br />', '')   # Remove html tag (<br />)\n",
    "    \n",
    "    for t in line.split():              # open the contractions\n",
    "        if t in contractions:\n",
    "            line = line.replace(t, contractions[t])\n",
    "            \n",
    "    line = line.translate(transtbl)     # Remove punctuation\n",
    "    \n",
    "    # Get tokens\n",
    "    tokens = []\n",
    "    for t in nltk.word_tokenize(line):\n",
    "        t = t.lower()\n",
    "        try:\n",
    "            word_to_index[t]\n",
    "        except:\n",
    "            continue\n",
    "            \n",
    "        if t not in stopwords:\n",
    "            lemma = lemmatizer.lemmatize(t, 'v')\n",
    "            tokens.append(lemma)\n",
    "            \n",
    "    return ' '.join(tokens)"
   ]
  },
  {
   "cell_type": "code",
   "execution_count": 25,
   "metadata": {},
   "outputs": [
    {
     "data": {
      "text/plain": [
       "'movie get no respect sure lot memorable quote list gem imagine movie joe piscopo actually funny maureen stapleton scene stealer moroni character absolute scream watch alan skipper hale jr police sgt'"
      ]
     },
     "execution_count": 25,
     "metadata": {},
     "output_type": "execute_result"
    }
   ],
   "source": [
    "preprocessing('For a movie that gets no respect there sure are a lot of memorable quotes listed for this gem. Imagine a movie where Joe Piscopo is actually funny! Maureen Stapleton is a scene stealer. The Moroni character is an absolute scream. Watch for Alan \"The Skipper\" Hale jr. as a police Sgt.')"
   ]
  },
  {
   "cell_type": "code",
   "execution_count": 26,
   "metadata": {},
   "outputs": [],
   "source": [
    "train_x = list(map(preprocessing, train_x))\n",
    "test_x = list(map(preprocessing, test_x))"
   ]
  },
  {
   "cell_type": "code",
   "execution_count": 27,
   "metadata": {},
   "outputs": [],
   "source": [
    "train_x = np.array(train_x)\n",
    "test_x = np.array(test_x)"
   ]
  },
  {
   "cell_type": "code",
   "execution_count": 28,
   "metadata": {},
   "outputs": [
    {
     "data": {
      "text/plain": [
       "'movie get no respect sure lot memorable quote list gem imagine movie joe piscopo actually funny maureen stapleton scene stealer moroni character absolute scream watch alan skipper hale jr police sgt'"
      ]
     },
     "execution_count": 28,
     "metadata": {},
     "output_type": "execute_result"
    }
   ],
   "source": [
    "train_x[0]"
   ]
  },
  {
   "cell_type": "markdown",
   "metadata": {},
   "source": [
    "## Embedding"
   ]
  },
  {
   "cell_type": "code",
   "execution_count": 29,
   "metadata": {},
   "outputs": [
    {
     "name": "stderr",
     "output_type": "stream",
     "text": [
      "Using TensorFlow backend.\n"
     ]
    }
   ],
   "source": [
    "from keras.models import Model, Sequential\n",
    "from keras.layers import Input, Dense, Activation"
   ]
  },
  {
   "cell_type": "code",
   "execution_count": 30,
   "metadata": {},
   "outputs": [],
   "source": [
    "import numpy as np\n",
    "from keras.models import Model\n",
    "from keras.layers import Dense, Input, Dropout, LSTM, Activation, Embedding, Conv1D, MaxPooling1D\n",
    "from keras.preprocessing import sequence\n",
    "from keras import regularizers\n",
    "\n",
    "np.random.seed(1)"
   ]
  },
  {
   "cell_type": "code",
   "execution_count": 31,
   "metadata": {},
   "outputs": [],
   "source": [
    "def pretrained_embedding_layer(word_to_vec_map, word_to_index):\n",
    "    \"\"\"\n",
    "    Build and return a Keras Embedding Layer given word_to_vec mapping and word_to_index mapping\n",
    "    \n",
    "    Args:\n",
    "        word_to_vec_map (dict[str->np.ndarray]): map from a word to a vector with shape (N,) where N is the length of a word vector (50 in our case)\n",
    "        word_to_index (dict[str->int]): map from a word to its index in vocabulary\n",
    "\n",
    "    Return:\n",
    "        Keras.layers.Embedding: Embedding layer\n",
    "    \"\"\"\n",
    "    \n",
    "    # Keras requires vocab length start from index 1\n",
    "    vocab_len = len(word_to_index) + 1  \n",
    "    emb_dim = list(word_to_vec_map.values())[0].shape[0]\n",
    "    \n",
    "    # Initialize the embedding matrix as a numpy array of zeros of shape (vocab_len, dimensions of word vectors = emb_dim)\n",
    "    emb_matrix = np.zeros((vocab_len, emb_dim))\n",
    "    \n",
    "    # Set each row \"index\" of the embedding matrix to be the word vector representation of the \"index\"th word of the vocabulary\n",
    "    for word, index in word_to_index.items():\n",
    "        emb_matrix[index, :] = word_to_vec_map[word]\n",
    "\n",
    "    # Define Keras embedding layer with the correct output/input sizes, make it trainable. Use Embedding(...). Make sure to set trainable=False. \n",
    "    return Embedding(\n",
    "        input_dim=vocab_len, \n",
    "        output_dim=emb_dim, \n",
    "        trainable=False,  # Indicating this is a pre-trained embedding \n",
    "        weights=[emb_matrix])"
   ]
  },
  {
   "cell_type": "code",
   "execution_count": 32,
   "metadata": {},
   "outputs": [
    {
     "name": "stdout",
     "output_type": "stream",
     "text": [
      "1437\n"
     ]
    }
   ],
   "source": [
    "maxlen = len(max(train_x, key=len).split())\n",
    "print(maxlen)"
   ]
  },
  {
   "cell_type": "markdown",
   "metadata": {},
   "source": [
    "## Model"
   ]
  },
  {
   "cell_type": "code",
   "execution_count": 33,
   "metadata": {},
   "outputs": [],
   "source": [
    "def movie_model(input_shape, word_to_vec_map, word_to_index):\n",
    "    \n",
    "    # Input layer\n",
    "    sentence_indices = Input(shape=input_shape, dtype='int32')\n",
    "    \n",
    "    # Step 2: Embedding layer\n",
    "    # Embedding layer\n",
    "    embedding_layer = pretrained_embedding_layer(word_to_vec_map, word_to_index)\n",
    "    embeddings = embedding_layer(sentence_indices) \n",
    "    \n",
    "    \n",
    "    X = LSTM(128, return_sequences=True, recurrent_dropout=0.5)(embeddings)  # N->N RNN\n",
    "    X = Dropout(0.5)(X)\n",
    "    X = LSTM(128, recurrent_dropout=0.5)(X)  # N -> 1 RNN\n",
    "    X = Dropout(0.5)(X)\n",
    "    X = Dense(1, activation='sigmoid')(X)\n",
    "\n",
    "    model = Model(inputs=sentence_indices, outputs=X)\n",
    "    \n",
    "    \n",
    "    return model"
   ]
  },
  {
   "cell_type": "code",
   "execution_count": 34,
   "metadata": {},
   "outputs": [],
   "source": [
    "def movie_model2(input_shape, word_to_vec_map, word_to_index):\n",
    "    \n",
    "\n",
    "    sentence_indices = Input(shape=input_shape, dtype='int32')\n",
    "    \n",
    "    # Step 2: Embedding layer\n",
    "    # Embedding layer\n",
    "    embedding_layer = pretrained_embedding_layer(word_to_vec_map, word_to_index)\n",
    "    embeddings = embedding_layer(sentence_indices) \n",
    "\n",
    "\n",
    "    X = LSTM(128, recurrent_dropout=0.6)(embeddings)  # N -> 1 RNN\n",
    "    X = Dropout(0.4)(X)\n",
    "    X = Dense(1, activation='sigmoid')(X)\n",
    "\n",
    "    model = Model(inputs=sentence_indices, outputs=X)\n",
    "    \n",
    "    # ------------------\n",
    "    # End of your code\n",
    "    \n",
    "    return model"
   ]
  },
  {
   "cell_type": "code",
   "execution_count": 35,
   "metadata": {},
   "outputs": [],
   "source": [
    "def sentences_to_indices_revise(X, word_to_index, max_len):\n",
    "    \"\"\"\n",
    "    Return a array of indices of a given sentence. The sentence will be trimed/padded to max_len\n",
    "\n",
    "    Args:\n",
    "        X (np.ndarray): Input array of sentences, the shape is (m,) where m is the number of sentences, each sentence is a str. Example X: array(['Sentence 1', 'Setence 2'])\n",
    "        word_to_index (dict[str->int]): map from a word to its index in vocabulary\n",
    "\n",
    "    Return:\n",
    "        indices (np.ndarray): the shape is (m, max_len) where m is the number of sentences\n",
    "    \"\"\"\n",
    "    m = X.shape[0]\n",
    "    X_indices = np.zeros((m, max_len))\n",
    "    \n",
    "    for i in range(m):\n",
    "        sentence_words = X[i].lower().split()\n",
    "        \n",
    "        j = 0\n",
    "        for w in sentence_words:\n",
    "            try:\n",
    "                X_indices[i, j] = word_to_index[w]\n",
    "                j = j + 1\n",
    "            except:\n",
    "                j = j + 1\n",
    "                continue\n",
    "                \n",
    "    return X_indices"
   ]
  },
  {
   "cell_type": "code",
   "execution_count": 36,
   "metadata": {},
   "outputs": [],
   "source": [
    "X_train_indices = sentences_to_indices_revise(train_x, word_to_index, maxlen)\n",
    "X_test_indices = sentences_to_indices_revise(test_x, word_to_index, maxlen)"
   ]
  },
  {
   "cell_type": "code",
   "execution_count": 37,
   "metadata": {},
   "outputs": [
    {
     "data": {
      "text/plain": [
       "(25000, 120)"
      ]
     },
     "execution_count": 37,
     "metadata": {},
     "output_type": "execute_result"
    }
   ],
   "source": [
    "x_train = sequence.pad_sequences(X_train_indices, maxlen=120, truncating='post')\n",
    "x_test = sequence.pad_sequences(X_test_indices, maxlen=120, truncating='post')\n",
    "x_train.shape"
   ]
  },
  {
   "cell_type": "code",
   "execution_count": 38,
   "metadata": {},
   "outputs": [
    {
     "name": "stdout",
     "output_type": "stream",
     "text": [
      "_________________________________________________________________\n",
      "Layer (type)                 Output Shape              Param #   \n",
      "=================================================================\n",
      "input_1 (InputLayer)         (None, 120)               0         \n",
      "_________________________________________________________________\n",
      "embedding_1 (Embedding)      (None, 120, 50)           20000050  \n",
      "_________________________________________________________________\n",
      "lstm_1 (LSTM)                (None, 120, 128)          91648     \n",
      "_________________________________________________________________\n",
      "dropout_1 (Dropout)          (None, 120, 128)          0         \n",
      "_________________________________________________________________\n",
      "lstm_2 (LSTM)                (None, 128)               131584    \n",
      "_________________________________________________________________\n",
      "dropout_2 (Dropout)          (None, 128)               0         \n",
      "_________________________________________________________________\n",
      "dense_1 (Dense)              (None, 1)                 129       \n",
      "=================================================================\n",
      "Total params: 20,223,411\n",
      "Trainable params: 223,361\n",
      "Non-trainable params: 20,000,050\n",
      "_________________________________________________________________\n"
     ]
    }
   ],
   "source": [
    "model = movie_model((120,), word_to_vec_map, word_to_index)\n",
    "model.summary()"
   ]
  },
  {
   "cell_type": "code",
   "execution_count": 39,
   "metadata": {},
   "outputs": [],
   "source": [
    "model.compile(loss='binary_crossentropy', optimizer='adam', metrics=['accuracy'])"
   ]
  },
  {
   "cell_type": "code",
   "execution_count": 40,
   "metadata": {},
   "outputs": [
    {
     "data": {
      "text/plain": [
       "array([[185457., 226278.,      0., 192973.,  43010., 164328., 169725.,\n",
       "             0.,      0.,      0.,      0.,      0.,      0.,      0.,\n",
       "             0.,      0.,      0.,      0.,      0.,      0.]])"
      ]
     },
     "execution_count": 40,
     "metadata": {},
     "output_type": "execute_result"
    }
   ],
   "source": [
    "X_tmp = np.array([\"I love rollick is a good guy\"])\n",
    "sentences_to_indices_revise(X_tmp, word_to_index, max_len = 20)"
   ]
  },
  {
   "cell_type": "markdown",
   "metadata": {},
   "source": [
    "## Training"
   ]
  },
  {
   "cell_type": "code",
   "execution_count": 41,
   "metadata": {},
   "outputs": [
    {
     "name": "stdout",
     "output_type": "stream",
     "text": [
      "Epoch 1/30\n",
      "25000/25000 [==============================] - 140s 6ms/step - loss: 0.6771 - acc: 0.5693\n",
      "Epoch 2/30\n",
      "25000/25000 [==============================] - 139s 6ms/step - loss: 0.6729 - acc: 0.5857\n",
      "Epoch 3/30\n",
      "25000/25000 [==============================] - 139s 6ms/step - loss: 0.6743 - acc: 0.5706\n",
      "Epoch 4/30\n",
      "25000/25000 [==============================] - 138s 6ms/step - loss: 0.5168 - acc: 0.7542\n",
      "Epoch 5/30\n",
      "25000/25000 [==============================] - 138s 6ms/step - loss: 0.4588 - acc: 0.7919\n",
      "Epoch 6/30\n",
      "25000/25000 [==============================] - 138s 6ms/step - loss: 0.4434 - acc: 0.8010\n",
      "Epoch 7/30\n",
      "25000/25000 [==============================] - 138s 6ms/step - loss: 0.4335 - acc: 0.8062\n",
      "Epoch 8/30\n",
      "25000/25000 [==============================] - 138s 6ms/step - loss: 0.4271 - acc: 0.8087\n",
      "Epoch 9/30\n",
      "25000/25000 [==============================] - 143s 6ms/step - loss: 0.4182 - acc: 0.8148\n",
      "Epoch 10/30\n",
      "25000/25000 [==============================] - 141s 6ms/step - loss: 0.4133 - acc: 0.8183\n",
      "Epoch 11/30\n",
      "25000/25000 [==============================] - 141s 6ms/step - loss: 0.4031 - acc: 0.8234\n",
      "Epoch 12/30\n",
      "25000/25000 [==============================] - 144s 6ms/step - loss: 0.3971 - acc: 0.8244\n",
      "Epoch 13/30\n",
      "25000/25000 [==============================] - 139s 6ms/step - loss: 0.3916 - acc: 0.8299\n",
      "Epoch 14/30\n",
      "25000/25000 [==============================] - 138s 6ms/step - loss: 0.3830 - acc: 0.8330\n",
      "Epoch 15/30\n",
      "25000/25000 [==============================] - 138s 6ms/step - loss: 0.3788 - acc: 0.8346\n",
      "Epoch 16/30\n",
      "25000/25000 [==============================] - 138s 6ms/step - loss: 0.3699 - acc: 0.8411\n",
      "Epoch 17/30\n",
      "25000/25000 [==============================] - 139s 6ms/step - loss: 0.3638 - acc: 0.8454\n",
      "Epoch 18/30\n",
      "25000/25000 [==============================] - 138s 6ms/step - loss: 0.3586 - acc: 0.8491\n",
      "Epoch 19/30\n",
      "25000/25000 [==============================] - 138s 6ms/step - loss: 0.3485 - acc: 0.8544\n",
      "Epoch 20/30\n",
      "25000/25000 [==============================] - 138s 6ms/step - loss: 0.3369 - acc: 0.8584\n",
      "Epoch 21/30\n",
      "25000/25000 [==============================] - 138s 6ms/step - loss: 0.3335 - acc: 0.8624\n",
      "Epoch 22/30\n",
      "25000/25000 [==============================] - 140s 6ms/step - loss: 0.3241 - acc: 0.8662\n",
      "Epoch 23/30\n",
      "25000/25000 [==============================] - 138s 6ms/step - loss: 0.3159 - acc: 0.8685\n",
      "Epoch 24/30\n",
      "25000/25000 [==============================] - 139s 6ms/step - loss: 0.3117 - acc: 0.8721\n",
      "Epoch 25/30\n",
      "25000/25000 [==============================] - 139s 6ms/step - loss: 0.3037 - acc: 0.8781\n",
      "Epoch 26/30\n",
      "25000/25000 [==============================] - 140s 6ms/step - loss: 0.2993 - acc: 0.8773\n",
      "Epoch 27/30\n",
      "25000/25000 [==============================] - 140s 6ms/step - loss: 0.2945 - acc: 0.8811\n",
      "Epoch 28/30\n",
      "25000/25000 [==============================] - 141s 6ms/step - loss: 0.2837 - acc: 0.8848\n",
      "Epoch 29/30\n",
      "25000/25000 [==============================] - 140s 6ms/step - loss: 0.2808 - acc: 0.8872\n",
      "Epoch 30/30\n",
      "25000/25000 [==============================] - 140s 6ms/step - loss: 0.2762 - acc: 0.8891\n"
     ]
    }
   ],
   "source": [
    "history = model.fit(\n",
    "    x_train, \n",
    "    train_y_label, \n",
    "    epochs = 30, \n",
    "    batch_size = 30, \n",
    "    shuffle=True)"
   ]
  },
  {
   "cell_type": "code",
   "execution_count": 44,
   "metadata": {},
   "outputs": [
    {
     "name": "stdout",
     "output_type": "stream",
     "text": [
      "Epoch 1/10\n",
      "25000/25000 [==============================] - 139s 6ms/step - loss: 0.2695 - acc: 0.8920\n",
      "Epoch 2/10\n",
      "25000/25000 [==============================] - 140s 6ms/step - loss: 0.2639 - acc: 0.8934\n",
      "Epoch 3/10\n",
      "25000/25000 [==============================] - 140s 6ms/step - loss: 0.2655 - acc: 0.8962\n",
      "Epoch 4/10\n",
      "25000/25000 [==============================] - 140s 6ms/step - loss: 0.2477 - acc: 0.9018\n",
      "Epoch 5/10\n",
      "25000/25000 [==============================] - 140s 6ms/step - loss: 0.2500 - acc: 0.9018\n",
      "Epoch 6/10\n",
      "25000/25000 [==============================] - 147s 6ms/step - loss: 0.2449 - acc: 0.9040\n",
      "Epoch 7/10\n",
      "25000/25000 [==============================] - 143s 6ms/step - loss: 0.2376 - acc: 0.9071\n",
      "Epoch 8/10\n",
      "25000/25000 [==============================] - 138s 6ms/step - loss: 0.2325 - acc: 0.9097\n",
      "Epoch 9/10\n",
      "25000/25000 [==============================] - 141s 6ms/step - loss: 0.2293 - acc: 0.9127\n",
      "Epoch 10/10\n",
      "25000/25000 [==============================] - 146s 6ms/step - loss: 0.2269 - acc: 0.9124\n"
     ]
    }
   ],
   "source": [
    "history2 = model.fit(\n",
    "    x_train, \n",
    "    train_y_label, \n",
    "    epochs = 10, \n",
    "    batch_size = 30, \n",
    "    shuffle=True)"
   ]
  },
  {
   "cell_type": "code",
   "execution_count": 45,
   "metadata": {},
   "outputs": [
    {
     "name": "stdout",
     "output_type": "stream",
     "text": [
      "25000/25000 [==============================] - 33s 1ms/step\n",
      "loss = 0.3721, acc = 85.04%\n"
     ]
    }
   ],
   "source": [
    "loss, acc = model.evaluate(x_test, test_y_label)\n",
    "print('loss = %.4f, acc = %.2f%%' % (loss, acc * 100))"
   ]
  },
  {
   "cell_type": "code",
   "execution_count": 46,
   "metadata": {},
   "outputs": [
    {
     "name": "stdout",
     "output_type": "stream",
     "text": [
      "25000/25000 [==============================] - 32s 1ms/step\n",
      "loss = 0.1550, acc = 94.68%\n"
     ]
    }
   ],
   "source": [
    "loss, acc = model.evaluate(x_train, train_y_label)\n",
    "print('loss = %.4f, acc = %.2f%%' % (loss, acc * 100))"
   ]
  },
  {
   "cell_type": "code",
   "execution_count": 47,
   "metadata": {},
   "outputs": [
    {
     "data": {
      "text/plain": [
       "[<matplotlib.lines.Line2D at 0x1091fbe80>]"
      ]
     },
     "execution_count": 47,
     "metadata": {},
     "output_type": "execute_result"
    },
    {
     "data": {
      "image/png": "[encoded data removed]",
      "text/plain": [
       "<Figure size 432x288 with 1 Axes>"
      ]
     },
     "metadata": {
      "needs_background": "light"
     },
     "output_type": "display_data"
    }
   ],
   "source": [
    "plt.plot(history.history['loss'])"
   ]
  },
  {
   "cell_type": "code",
   "execution_count": 48,
   "metadata": {},
   "outputs": [
    {
     "data": {
      "text/plain": [
       "[<matplotlib.lines.Line2D at 0x1092a8358>]"
      ]
     },
     "execution_count": 48,
     "metadata": {},
     "output_type": "execute_result"
    },
    {
     "data": {
      "image/png": "[encoded data removed]",
      "text/plain": [
       "<Figure size 432x288 with 1 Axes>"
      ]
     },
     "metadata": {
      "needs_background": "light"
     },
     "output_type": "display_data"
    }
   ],
   "source": [
    "plt.plot(history.history['acc'])"
   ]
  },
  {
   "cell_type": "code",
   "execution_count": 345,
   "metadata": {},
   "outputs": [],
   "source": [
    "# save model\n",
    "with open(\"L2_P120_E30_COV_model.json\", \"w\") as fp:\n",
    "    fp.write(model.to_json())"
   ]
  },
  {
   "cell_type": "code",
   "execution_count": 346,
   "metadata": {},
   "outputs": [],
   "source": [
    "# Save model weights\n",
    "model.save_weights(\"L2_P120_E30_COV_model.h5\")"
   ]
  },
  {
   "cell_type": "code",
   "execution_count": 50,
   "metadata": {},
   "outputs": [],
   "source": [
    "from keras.models import model_from_json\n",
    "\n",
    "# Load model structure\n",
    "with open(\"L2_P120_E30_model.json\", \"r\") as fp:\n",
    "    model_best = model_from_json(fp.read())\n",
    "\n",
    "# Load model weights\n",
    "model_best.load_weights(\"L2_P120_E30_model.h5\")"
   ]
  },
  {
   "cell_type": "code",
   "execution_count": 52,
   "metadata": {},
   "outputs": [],
   "source": [
    "model_best.compile(loss='binary_crossentropy', optimizer='adam', metrics=['accuracy'])"
   ]
  },
  {
   "cell_type": "code",
   "execution_count": 53,
   "metadata": {},
   "outputs": [
    {
     "name": "stdout",
     "output_type": "stream",
     "text": [
      "25000/25000 [==============================] - 34s 1ms/step\n",
      "loss = 0.3644, acc = 86.45%\n"
     ]
    }
   ],
   "source": [
    "loss, acc = model_best.evaluate(x_test, test_y_label)\n",
    "print('loss = %.4f, acc = %.2f%%' % (loss, acc * 100))"
   ]
  },
  {
   "cell_type": "code",
   "execution_count": 54,
   "metadata": {},
   "outputs": [
    {
     "name": "stdout",
     "output_type": "stream",
     "text": [
      "25000/25000 [==============================] - 33s 1ms/step\n",
      "loss = 0.2182, acc = 92.48%\n"
     ]
    }
   ],
   "source": [
    "loss, acc = model_best.evaluate(x_train, train_y_label)\n",
    "print('loss = %.4f, acc = %.2f%%' % (loss, acc * 100))"
   ]
  },
  {
   "cell_type": "code",
   "execution_count": 73,
   "metadata": {},
   "outputs": [
    {
     "name": "stdout",
     "output_type": "stream",
     "text": [
      "a good movie [[0.97509956]]\n"
     ]
    }
   ],
   "source": [
    "x_test = np.array([\"a good movie\"])\n",
    "X_test_indices = sentences_to_indices(x_test, word_to_index, 120)\n",
    "print(x_test[0], model.predict(X_test_indices))"
   ]
  },
  {
   "cell_type": "code",
   "execution_count": null,
   "metadata": {},
   "outputs": [],
   "source": []
  }
 ],
 "metadata": {
  "kernelspec": {
   "display_name": "Python 3",
   "language": "python",
   "name": "python3"
  },
  "language_info": {
   "codemirror_mode": {
    "name": "ipython",
    "version": 3
   },
   "file_extension": ".py",
   "mimetype": "text/x-python",
   "name": "python",
   "nbconvert_exporter": "python",
   "pygments_lexer": "ipython3",
   "version": "3.6.6"
  }
 },
 "nbformat": 4,
 "nbformat_minor": 2
}
